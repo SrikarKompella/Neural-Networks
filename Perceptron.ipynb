{
 "cells": [
  {
   "cell_type": "code",
   "execution_count": 1,
   "metadata": {},
   "outputs": [],
   "source": [
    "import numpy as np"
   ]
  },
  {
   "cell_type": "code",
   "execution_count": 2,
   "metadata": {},
   "outputs": [],
   "source": [
    "ip = np.array([[1,1,-1], [1,2,-1], [2,-1,1], [2,0,1], [1,-2,1], [0,0,1], [-1,2,1],[-2,1,1],[-1,-1,-1],[-2,-2,-1],[-2,-2,-1]])"
   ]
  },
  {
   "cell_type": "code",
   "execution_count": 3,
   "metadata": {},
   "outputs": [],
   "source": [
    "op = np.array([[-1,-1], [-1,1], [1,-1], [1,1]])"
   ]
  },
  {
   "cell_type": "code",
   "execution_count": 25,
   "metadata": {
    "scrolled": false
   },
   "outputs": [
    {
     "name": "stdout",
     "output_type": "stream",
     "text": [
      "Steps: 38\n",
      "Weights are:\n",
      "[[ 13  -1]\n",
      " [ 11   5]\n",
      " [-11   3]]\n",
      "Bias is: [[ 1 11]]\n"
     ]
    }
   ],
   "source": [
    "c = 0\n",
    "step = 0\n",
    "f = False\n",
    "while(True):\n",
    "    for i in range(ip.shape[0]):\n",
    "        step += 1\n",
    "        xin = ip[i].reshape(3,1)\n",
    "        yin = activation(xin, w, bias)\n",
    "        yout = op[i].ravel()\n",
    "\n",
    "        if yin[0]<theta:\n",
    "            yin[0]=-1\n",
    "        else:\n",
    "            yin[0]=1\n",
    "        \n",
    "        if yin[1]<theta:\n",
    "            yin[1]=-1\n",
    "        else:\n",
    "            yin[1]=1\n",
    "            \n",
    "        if np.array_equal(yin.ravel(), yout.ravel()):\n",
    "            c+=1\n",
    "    \n",
    "        else:\n",
    "            c=0\n",
    "            w = w + a * (yout*xin)\n",
    "            bias = bias + a * yout\n",
    "        if c==ip.shape[0]:\n",
    "            f = True\n",
    "            break\n",
    "\n",
    "    if f == True:\n",
    "        print'Steps:', step\n",
    "        print'Weights are:' \n",
    "        print w\n",
    "        print'Bias is:', bias\n",
    "        break\n",
    "\n",
    "    "
   ]
  },
  {
   "cell_type": "code",
   "execution_count": 35,
   "metadata": {},
   "outputs": [],
   "source": [
    "def activation(x, w, bias):\n",
    "    update = []\n",
    "    for i in range(w.shape[-1]):\n",
    "        w_ = w[:,i]\n",
    "        r = x\n",
    "        update.append(np.dot(w_, x))\n",
    "    update = np.array(update)\n",
    "    return bias.ravel() + update.ravel()"
   ]
  }
 ],
 "metadata": {
  "kernelspec": {
   "display_name": "Python 2",
   "language": "python",
   "name": "python2"
  },
  "language_info": {
   "codemirror_mode": {
    "name": "ipython",
    "version": 2
   },
   "file_extension": ".py",
   "mimetype": "text/x-python",
   "name": "python",
   "nbconvert_exporter": "python",
   "pygments_lexer": "ipython2",
   "version": "2.7.15"
  }
 },
 "nbformat": 4,
 "nbformat_minor": 2
}
