{
 "cells": [
  {
   "cell_type": "code",
   "execution_count": 1,
   "metadata": {},
   "outputs": [],
   "source": [
    "import numpy as np"
   ]
  },
  {
   "cell_type": "code",
   "execution_count": 10,
   "metadata": {},
   "outputs": [],
   "source": [
    "ip = np.array([[1,1,-1], [1,2,-1], [2,-1,1], [2,0,1], [1,-2,1], [0,0,1], [-1,2,1],[-2,1,1],[-1,-1,-1],[-2,-2,-1],[-2,-2,-1]])"
   ]
  },
  {
   "cell_type": "code",
   "execution_count": 11,
   "metadata": {},
   "outputs": [],
   "source": [
    "op = np.array([[-1,-1],[-1,-1], [-1,1],[-1,1],[-1,1],[-1,1], [1,-1],[1,-1], [1,1],[1,1],[1,1]])"
   ]
  },
  {
   "cell_type": "code",
   "execution_count": 12,
   "metadata": {},
   "outputs": [],
   "source": [
    "w = np.array([[0,0],[0,0],[0,0]])\n",
    "bias = bias = np.array([0, 0]).reshape((1,-1))"
   ]
  },
  {
   "cell_type": "code",
   "execution_count": 13,
   "metadata": {},
   "outputs": [],
   "source": [
    "a=0.1\n",
    "niter=10000"
   ]
  },
  {
   "cell_type": "code",
   "execution_count": 14,
   "metadata": {},
   "outputs": [],
   "source": [
    "costs=[]"
   ]
  },
  {
   "cell_type": "code",
   "execution_count": 15,
   "metadata": {},
   "outputs": [],
   "source": [
    "def activation(x, weights, bias):\n",
    "    update = []\n",
    "    for i in range(weights.shape[-1]):\n",
    "        w = weights[:,i]\n",
    "        r = x\n",
    "        update.append(np.dot(w, x))\n",
    "    update = np.array(update)\n",
    "    return bias.ravel() + update.ravel()"
   ]
  },
  {
   "cell_type": "code",
   "execution_count": 16,
   "metadata": {},
   "outputs": [
    {
     "name": "stdout",
     "output_type": "stream",
     "text": [
      "Weights are:\n",
      "[[-0.64323687  0.20382198]\n",
      " [ 0.1008278  -0.60540424]\n",
      " [-0.08560765 -0.00655789]]\n",
      "Bias is: [[-0.17042579  0.19027759]]\n",
      "Avg Error is 0.04863272707962066\n",
      "Latest error is 1.1205410585525736e-33\n"
     ]
    }
   ],
   "source": [
    "for _ in range(niter):\n",
    "    \n",
    "    for i in range(ip.shape[0]):\n",
    "        xin = ip[i].reshape(3,1)\n",
    "        yin = activation(xin, w, bias)\n",
    "        yout = op[i].ravel()\n",
    "        error = yout - yin\n",
    "        w = w + a * error*xin\n",
    "        bias = bias + a*error\n",
    "        cost = (error**2).sum() / 11.0\n",
    "        costs.append(cost)\n",
    "\n",
    "print'Weights are:' \n",
    "print w\n",
    "print'Bias is:', bias\n",
    "print 'Avg Error is',sum(costs)/len(costs)\n",
    "print 'Latest error is', costs.pop()\n",
    "        "
   ]
  },
  {
   "cell_type": "code",
   "execution_count": 11,
   "metadata": {},
   "outputs": [
    {
     "name": "stdout",
     "output_type": "stream",
     "text": [
      "0.0\n"
     ]
    }
   ],
   "source": [
    "minerror = min(costs)\n",
    "print minerror"
   ]
  }
 ],
 "metadata": {
  "kernelspec": {
   "display_name": "Python 2",
   "language": "python",
   "name": "python2"
  },
  "language_info": {
   "codemirror_mode": {
    "name": "ipython",
    "version": 2
   },
   "file_extension": ".py",
   "mimetype": "text/x-python",
   "name": "python",
   "nbconvert_exporter": "python",
   "pygments_lexer": "ipython2",
   "version": "2.7.15"
  }
 },
 "nbformat": 4,
 "nbformat_minor": 2
}
