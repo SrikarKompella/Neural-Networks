{
 "cells": [
  {
   "cell_type": "code",
   "execution_count": 90,
   "metadata": {},
   "outputs": [],
   "source": [
    "import numpy as np"
   ]
  },
  {
   "cell_type": "code",
   "execution_count": 91,
   "metadata": {},
   "outputs": [],
   "source": [
    "inputs = np.array([[1,1],[1,-1],[-1,1],[-1,-1]])"
   ]
  },
  {
   "cell_type": "code",
   "execution_count": 92,
   "metadata": {},
   "outputs": [],
   "source": [
    "outputs = np.array([[1],[-1],[-1],[1]])"
   ]
  },
  {
   "cell_type": "code",
   "execution_count": 122,
   "metadata": {},
   "outputs": [],
   "source": [
    "epochs = 10000\n",
    "a = 2"
   ]
  },
  {
   "cell_type": "code",
   "execution_count": 107,
   "metadata": {},
   "outputs": [],
   "source": [
    "inputneurons = 2\n",
    "hiddenneurons = 2\n",
    "outputneurons = 1"
   ]
  },
  {
   "cell_type": "code",
   "execution_count": 123,
   "metadata": {},
   "outputs": [],
   "source": [
    "hidden_weights = np.random.uniform(size=(inputneurons,hiddenneurons),low = -0.5, high = 0.5)\n",
    "hidden_bias = np.random.uniform(size=(1,hiddenneurons),low = -0.5, high = 0.5)\n",
    "output_weights = np.random.uniform(size=(hiddenneurons,outputneurons),low = -0.5, high = 0.5)\n",
    "output_bias = np.random.uniform(size=(1,outputneurons),low = -0.5, high = 0.5)\n"
   ]
  },
  {
   "cell_type": "code",
   "execution_count": 124,
   "metadata": {},
   "outputs": [
    {
     "name": "stdout",
     "output_type": "stream",
     "text": [
      "Hidden Weights [[ 0.39255036  0.1078891 ]\n",
      " [-0.09622205  0.07852233]]\n",
      "Hidden Bias [[ 0.24130748 -0.42427303]]\n",
      "Output Weights [[-0.11858833]\n",
      " [-0.21198539]]\n",
      "Output Bias [[0.18604023]]\n"
     ]
    }
   ],
   "source": [
    "print \"Hidden Weights\",hidden_weights\n",
    "print \"Hidden Bias\", hidden_bias\n",
    "print \"Output Weights\", output_weights\n",
    "print \"Output Bias\",output_bias"
   ]
  },
  {
   "cell_type": "code",
   "execution_count": 97,
   "metadata": {},
   "outputs": [],
   "source": [
    "def tanh(x):\n",
    "    x=x/2\n",
    "    return np.tanh(x)"
   ]
  },
  {
   "cell_type": "code",
   "execution_count": 98,
   "metadata": {},
   "outputs": [],
   "source": [
    "def derivative(x):\n",
    "    return 0.5*(1/np.cosh(x))**2"
   ]
  },
  {
   "cell_type": "code",
   "execution_count": 125,
   "metadata": {},
   "outputs": [],
   "source": [
    "for _ in range(epochs):\n",
    "    \n",
    "\n",
    "    \n",
    "    hidden_layer_activation = np.dot(inputs,hidden_weights)\n",
    "    hidden_layer_activation += hidden_bias\n",
    "    hidden_layer_output = tanh(hidden_layer_activation)\n",
    "\n",
    "    output_layer_activation = np.dot(hidden_layer_output,output_weights)\n",
    "    output_layer_activation += output_bias\n",
    "    predicted_output = tanh(output_layer_activation)\n",
    "\n",
    "    error = outputs - predicted_output\n",
    "    derivative_predicted_output = error * derivative(predicted_output)\n",
    "    \n",
    "    error_hidden_layer = derivative_predicted_output.dot(output_weights.T)\n",
    "    derivative_hidden_layer = error_hidden_layer * derivative(hidden_layer_output)\n",
    "\n",
    "    output_weights += hidden_layer_output.T.dot(derivative_predicted_output) * a\n",
    "    output_bias += np.sum(derivative_predicted_output,axis=0,keepdims=True) * a\n",
    "    hidden_weights += inputs.T.dot(derivative_hidden_layer) * a\n",
    "    hidden_bias += np.sum(derivative_hidden_layer,axis=0,keepdims=True) * a\n",
    "\n"
   ]
  },
  {
   "cell_type": "code",
   "execution_count": 126,
   "metadata": {},
   "outputs": [
    {
     "name": "stdout",
     "output_type": "stream",
     "text": [
      "Final hidden weights: \n",
      "[[ 3.33370665  3.388196  ]\n",
      " [-3.33370665 -3.388196  ]]\n",
      "Final hidden bias: \n",
      "[[ 1.74427263 -1.74875196]]\n",
      "Final output weights: \n",
      "[[ 12.64582643]\n",
      " [-12.63676453]]\n",
      "Final output bias: \n",
      "[[-8.77223784]]\n",
      "\n",
      "Output from neural network :\n",
      "[[ 0.99975369]\n",
      " [-0.99963337]\n",
      " [-0.99963315]\n",
      " [ 0.99975369]]\n"
     ]
    }
   ],
   "source": [
    "print(\"Final hidden weights: \")\n",
    "print(hidden_weights)\n",
    "print(\"Final hidden bias: \")\n",
    "print(hidden_bias)\n",
    "print(\"Final output weights: \")\n",
    "print(output_weights)\n",
    "print(\"Final output bias: \")\n",
    "print(output_bias)\n",
    "\n",
    "print(\"\\nOutput from neural network :\")\n",
    "print(predicted_output)"
   ]
  }
 ],
 "metadata": {
  "kernelspec": {
   "display_name": "Python 2",
   "language": "python",
   "name": "python2"
  },
  "language_info": {
   "codemirror_mode": {
    "name": "ipython",
    "version": 2
   },
   "file_extension": ".py",
   "mimetype": "text/x-python",
   "name": "python",
   "nbconvert_exporter": "python",
   "pygments_lexer": "ipython2",
   "version": "2.7.15"
  }
 },
 "nbformat": 4,
 "nbformat_minor": 2
}
